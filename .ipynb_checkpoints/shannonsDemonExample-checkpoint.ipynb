{
 "cells": [
  {
   "cell_type": "code",
   "execution_count": 1,
   "id": "developmental-density",
   "metadata": {},
   "outputs": [],
   "source": [
    "import numpy as np\n",
    "import pandas as pd\n",
    "import seaborn as sns\n",
    "import datetime as dt\n",
    "import os\n",
    "import matplotlib.pyplot as plt\n",
    "\n",
    "sns.set_theme()"
   ]
  },
  {
   "cell_type": "code",
   "execution_count": 30,
   "id": "minute-harvard",
   "metadata": {},
   "outputs": [
    {
     "data": {
      "text/plain": [
       "0"
      ]
     },
     "execution_count": 30,
     "metadata": {},
     "output_type": "execute_result"
    }
   ],
   "source": [
    "np.random.randint(0,2)"
   ]
  },
  {
   "cell_type": "code",
   "execution_count": 27,
   "id": "marked-cover",
   "metadata": {},
   "outputs": [
    {
     "data": {
      "text/plain": [
       "0.5"
      ]
     },
     "execution_count": 27,
     "metadata": {},
     "output_type": "execute_result"
    }
   ],
   "source": [
    "9/6-1"
   ]
  },
  {
   "cell_type": "code",
   "execution_count": 78,
   "id": "floppy-forum",
   "metadata": {},
   "outputs": [],
   "source": [
    "def randomWalk(curr,moveUp,moveDown):\n",
    "    randNum = np.random.randint(0,2)\n",
    "    \n",
    "    if randNum == 1: # move up\n",
    "        return curr + (curr * moveUp)\n",
    "    \n",
    "    if randNum == 0: # move down\n",
    "        return curr - (curr * moveDown)\n",
    "    "
   ]
  },
  {
   "cell_type": "code",
   "execution_count": 62,
   "id": "cardiac-bidder",
   "metadata": {},
   "outputs": [
    {
     "data": {
      "text/plain": [
       "2"
      ]
     },
     "execution_count": 62,
     "metadata": {},
     "output_type": "execute_result"
    }
   ],
   "source": [
    "randomWalk(1,1,0.5)"
   ]
  },
  {
   "cell_type": "code",
   "execution_count": 80,
   "id": "frequent-smart",
   "metadata": {},
   "outputs": [],
   "source": [
    "def initModel(n,moveUp,moveDown):\n",
    "    res = [1]\n",
    "    currN = 0\n",
    "    \n",
    "    while currN < n:\n",
    "        o = randomWalk(res[-1],moveUp,moveDown)\n",
    "        res.append(o)\n",
    "        currN += 1\n",
    "        \n",
    "#         print(currN)\n",
    "        \n",
    "    return np.array(res)"
   ]
  },
  {
   "cell_type": "code",
   "execution_count": 112,
   "id": "sexual-approach",
   "metadata": {},
   "outputs": [
    {
     "data": {
      "text/plain": [
       "<AxesSubplot:>"
      ]
     },
     "execution_count": 112,
     "metadata": {},
     "output_type": "execute_result"
    },
    {
     "data": {
      "image/png": "[encoded data removed]",
      "text/plain": [
       "<Figure size 432x288 with 1 Axes>"
      ]
     },
     "metadata": {},
     "output_type": "display_data"
    }
   ],
   "source": [
    "resArr = initModel(50,1,0.5)\n",
    "pd.Series(resArr).plot(kind='line')"
   ]
  },
  {
   "cell_type": "code",
   "execution_count": 114,
   "id": "copyrighted-voluntary",
   "metadata": {},
   "outputs": [
    {
     "data": {
      "text/plain": [
       "0         NaN\n",
       "1      1.0000\n",
       "2      0.0000\n",
       "3      1.0000\n",
       "4      0.0000\n",
       "5     -0.5000\n",
       "6     -0.7500\n",
       "7     -0.8750\n",
       "8     -0.9375\n",
       "9     -0.8750\n",
       "10    -0.7500\n",
       "11    -0.8750\n",
       "12    -0.7500\n",
       "13    -0.5000\n",
       "14    -0.7500\n",
       "15    -0.5000\n",
       "16     0.0000\n",
       "17     1.0000\n",
       "18     3.0000\n",
       "19     1.0000\n",
       "20     3.0000\n",
       "21     7.0000\n",
       "22    15.0000\n",
       "23     7.0000\n",
       "24     3.0000\n",
       "25     7.0000\n",
       "26     3.0000\n",
       "27     7.0000\n",
       "28     3.0000\n",
       "29     1.0000\n",
       "30     0.0000\n",
       "31     1.0000\n",
       "32     3.0000\n",
       "33     1.0000\n",
       "34     0.0000\n",
       "35     1.0000\n",
       "36     0.0000\n",
       "37     1.0000\n",
       "38     3.0000\n",
       "39     1.0000\n",
       "40     3.0000\n",
       "41     7.0000\n",
       "42     3.0000\n",
       "43     1.0000\n",
       "44     0.0000\n",
       "45    -0.5000\n",
       "46    -0.7500\n",
       "47    -0.8750\n",
       "48    -0.9375\n",
       "49    -0.8750\n",
       "50    -0.7500\n",
       "dtype: float64"
      ]
     },
     "execution_count": 114,
     "metadata": {},
     "output_type": "execute_result"
    }
   ],
   "source": [
    "(pd.Series(resArr).pct_change()+1).cumprod()-1"
   ]
  },
  {
   "cell_type": "code",
   "execution_count": null,
   "id": "accurate-translator",
   "metadata": {},
   "outputs": [],
   "source": [
    "def investmentModelCash(alloc,arr):\n",
    "    shares = 50\n",
    "    cash = 50\n",
    "    \n",
    "    sharesObs = []\n",
    "    cashObs = []\n",
    "    portValue = []\n",
    "    \n",
    "    for p in arr:\n",
    "        mv = shares * p\n",
    "        \n",
    "        eAlloc = mv / (cash + mv)\n",
    "        cAlloc = cash / (cash + mv)\n",
    "        \n",
    "        if eAlloc >= 0.5: # need to sell equity\n",
    "            targ = (cash + mv) * 0.5\n",
    "            \n",
    "    "
   ]
  }
 ],
 "metadata": {
  "kernelspec": {
   "display_name": "Python 3",
   "language": "python",
   "name": "python3"
  },
  "language_info": {
   "codemirror_mode": {
    "name": "ipython",
    "version": 3
   },
   "file_extension": ".py",
   "mimetype": "text/x-python",
   "name": "python",
   "nbconvert_exporter": "python",
   "pygments_lexer": "ipython3",
   "version": "3.8.5"
  }
 },
 "nbformat": 4,
 "nbformat_minor": 5
}
