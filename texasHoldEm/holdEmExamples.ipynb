{
 "cells": [
  {
   "cell_type": "markdown",
   "id": "executed-comfort",
   "metadata": {},
   "source": [
    "# Examples of Texas Hold Em Poker Models"
   ]
  },
  {
   "cell_type": "markdown",
   "id": "modular-curve",
   "metadata": {},
   "source": [
    "### illustrative examples of poker modeling use cases\n",
    "> Texas Hold 'Em is one of the most popular forms of poker. The game rules as basically as follows, each player is dealt two cards at the beginning of the round, 3 more cards are then dealt to the middle after a round of betting, these 3 cards are called the flop. Following the flop are two more rounds of single cards being dealt called the flop and the river respectively, in both of these rounds only one more card is dealt to the middle. The goal of the game is to be able to create the highest scoring poker hands using the 2 cards in the players hand and those dealt to the middle.\n",
    "\n",
    "> I have created two different models to inform decisions during Texas Hold Em. The first takes any input of cards dealt during the different rounds and runs n number (default 1,000) game simulations to determine the probability of winning the round using the input card combinations. For example, an input might be pocket kings and one king dealt in the flop, the model would then return the probability of winning the round given that scenario. "
   ]
  },
  {
   "cell_type": "code",
   "execution_count": 1,
   "id": "statewide-newfoundland",
   "metadata": {},
   "outputs": [],
   "source": [
    "import pokerUtils\n",
    "\n",
    "import pandas as pd\n",
    "import numpy as np\n",
    "import seaborn as sns\n",
    "import matplotlib.pyplot as plt\n",
    "import os\n",
    "from tqdm import tqdm\n",
    "\n",
    "sns.set_theme()"
   ]
  },
  {
   "cell_type": "code",
   "execution_count": 2,
   "id": "modular-tanzania",
   "metadata": {},
   "outputs": [],
   "source": [
    "from pokerUtils import score_hand, Deck, runSimulation, computeProbability"
   ]
  },
  {
   "cell_type": "markdown",
   "id": "english-twins",
   "metadata": {},
   "source": [
    "#### Score a hands\n",
    "Note, the 'cards' are defined as a letter denoting the suit, ie S->Spades, C->Clubs, etc. The integer denotes the card value, face cards are denoted by 11-14 being Jack, Queen, King, Ace respectively. "
   ]
  },
  {
   "cell_type": "code",
   "execution_count": 3,
   "id": "aggressive-orchestra",
   "metadata": {},
   "outputs": [
    {
     "name": "stdout",
     "output_type": "stream",
     "text": [
      "score: 96.11, hand type: full house\n",
      "score: 26.1, hand type: pair\n",
      "score: 75.12, hand type: flush\n",
      "score: 79, hand type: straight\n"
     ]
    }
   ],
   "source": [
    "## full house\n",
    "hand1 = ['C6','D6','H6','D11','H11']\n",
    "hand2 = ['H11','D11','H2','C4','S10']\n",
    "hand3 = ['H6','H9','H12','H2','H11']\n",
    "hand4 = ['H10','C11','H12','D14','C13']\n",
    "\n",
    "for hand in [hand1,hand2,hand3,hand4]:\n",
    "    score,handType = score_hand(hand)\n",
    "    print('score: {}, hand type: {}'.format(round(score,2),handType))"
   ]
  },
  {
   "cell_type": "markdown",
   "id": "accessible-raleigh",
   "metadata": {},
   "source": [
    "#### Generate a deck and deal some cards\n",
    "The Deck class can randomly shuffle and generate n number of random selections from the deck, it then automatically removes the dealt cards from the deck."
   ]
  },
  {
   "cell_type": "code",
   "execution_count": 4,
   "id": "included-driver",
   "metadata": {},
   "outputs": [
    {
     "name": "stdout",
     "output_type": "stream",
     "text": [
      "first five cards pre-shuffle: ['H2', 'S2', 'C2', 'D2', 'H3']\n",
      "first five cards post-shuffle: ['D13', 'D3', 'C10', 'D8', 'S3']\n",
      "number cards in deck before deal: 52\n",
      "five cards dealt: ['D13', 'D3', 'C10', 'D8', 'S3']\n",
      "number cards in deck after deal: 47\n"
     ]
    }
   ],
   "source": [
    "deck = Deck()\n",
    "\n",
    "print('first five cards pre-shuffle: {}'.format(deck.deck[0:5]))\n",
    "\n",
    "deck.shuffle()\n",
    "\n",
    "print('first five cards post-shuffle: {}'.format(deck.deck[0:5]))\n",
    "\n",
    "print('number cards in deck before deal: {}'.format(len(deck.deck)))\n",
    "\n",
    "dealt = deck.dealNumber(5)\n",
    "\n",
    "print('five cards dealt: {}'.format(dealt))\n",
    "\n",
    "print('number cards in deck after deal: {}'.format(len(deck.deck)))"
   ]
  },
  {
   "cell_type": "markdown",
   "id": "advance-insight",
   "metadata": {},
   "source": [
    "#### Given specific cards in the hand, or any round, compute probability of winning game based on n number of simulations\n",
    "The function allows very granular specifications filling in the unspecified with random sampling. For example, the model below show the probability of winning the game if you have pocket kings and one king dealt in the flop for 1000 simulations. \n",
    "\n",
    "A single 'simulation' is defined here as a 6 player (can be changed through parameter) game where the 'showdown' off all players is computed. Thus, this models the win probability if all players play through all rounds, there is no modeling of individual bets. The only goal of the outcome is to simulate hands and determine highest scoring. "
   ]
  },
  {
   "cell_type": "code",
   "execution_count": 5,
   "id": "modified-louisville",
   "metadata": {},
   "outputs": [
    {
     "name": "stdout",
     "output_type": "stream",
     "text": [
      "probability of winning with pocket kings and 1 king dealt on the flop (n=1,000): 79.5%\n"
     ]
    }
   ],
   "source": [
    "simOut = runSimulation(1000,hand=['H13','C13'],flop=['S13'])\n",
    "print('probability of winning with pocket kings and 1 king dealt on the flop (n=1,000): {}%'.format(\n",
    "    round(np.sum(simOut)/len(simOut)*100,4)))"
   ]
  },
  {
   "cell_type": "code",
   "execution_count": 6,
   "id": "noble-fountain",
   "metadata": {},
   "outputs": [
    {
     "name": "stdout",
     "output_type": "stream",
     "text": [
      "probability of winning with pocket kings (n=1,000): 42.7%\n"
     ]
    }
   ],
   "source": [
    "simOut = runSimulation(1000,hand=['H13','C13'])\n",
    "print('probability of winning with pocket kings (n=1,000): {}%'.format(\n",
    "    round(np.sum(simOut)/len(simOut)*100,4)))"
   ]
  },
  {
   "cell_type": "markdown",
   "id": "logical-aberdeen",
   "metadata": {},
   "source": [
    "The models below use an increased number of simulations. "
   ]
  },
  {
   "cell_type": "code",
   "execution_count": 7,
   "id": "informative-november",
   "metadata": {},
   "outputs": [
    {
     "name": "stdout",
     "output_type": "stream",
     "text": [
      "probability of winning with pocket kings and 1 king dealt on the flop (n=10,000): 81.57%\n"
     ]
    }
   ],
   "source": [
    "simOut = runSimulation(10000,hand=['H13','C13'],flop=['S13'])\n",
    "print('probability of winning with pocket kings and 1 king dealt on the flop (n=10,000): {}%'.format(\n",
    "    round(np.sum(simOut)/len(simOut)*100,4)))"
   ]
  },
  {
   "cell_type": "code",
   "execution_count": 8,
   "id": "effective-weekly",
   "metadata": {},
   "outputs": [
    {
     "name": "stdout",
     "output_type": "stream",
     "text": [
      "probability of winning with pocket kings (n=10,000): 44.21%\n"
     ]
    }
   ],
   "source": [
    "simOut = runSimulation(10000,hand=['H13','C13'])\n",
    "print('probability of winning with pocket kings (n=10,000): {}%'.format(\n",
    "    round(np.sum(simOut)/len(simOut)*100,4)))"
   ]
  },
  {
   "cell_type": "markdown",
   "id": "challenging-adams",
   "metadata": {},
   "source": [
    "Increasing the number of simulations from 1000 to 10,000 does not appear to materially change the probabilities, this suggests that sampling bias is low. "
   ]
  },
  {
   "cell_type": "code",
   "execution_count": 9,
   "id": "indonesian-forestry",
   "metadata": {},
   "outputs": [],
   "source": [
    "def kelly(probWin):\n",
    "    return (1* probWin - (1-probWin)) / 1"
   ]
  },
  {
   "cell_type": "markdown",
   "id": "fatty-torture",
   "metadata": {},
   "source": [
    "The kelly criterion is an equation that calculates the percentage of the 'bank roll' to bet given a odds ratio or probability of win and loss. "
   ]
  },
  {
   "cell_type": "code",
   "execution_count": 10,
   "id": "periodic-dialogue",
   "metadata": {},
   "outputs": [
    {
     "name": "stdout",
     "output_type": "stream",
     "text": [
      "Kelly % (F%) of bankroll to bet using probability from modeling 3 Kings: 64.0%\n"
     ]
    }
   ],
   "source": [
    "print('Kelly % (F%) of bankroll to bet using probability from modeling 3 Kings: {}%'.format(round(kelly(0.82)*100,4)))"
   ]
  },
  {
   "cell_type": "markdown",
   "id": "according-signal",
   "metadata": {},
   "source": [
    "#### Probability that there is any possible combination of un-dealt cards that beats current hand.\n",
    "This technically computes the distribution of all possible hands excluding the input hand and dealt cards, and then samples that distribution to determine percentile of current hand. "
   ]
  },
  {
   "cell_type": "code",
   "execution_count": 11,
   "id": "living-depression",
   "metadata": {},
   "outputs": [],
   "source": [
    "def percentFormat(a):\n",
    "    return round(a*100,4)"
   ]
  },
  {
   "cell_type": "markdown",
   "id": "grand-council",
   "metadata": {},
   "source": [
    "The model below is showing a full house. "
   ]
  },
  {
   "cell_type": "code",
   "execution_count": 12,
   "id": "green-steel",
   "metadata": {},
   "outputs": [
    {
     "name": "stdout",
     "output_type": "stream",
     "text": [
      "percentile of hand in possible outcomes: 76.7669%, percent chance of loss: 23.2331%\n"
     ]
    }
   ],
   "source": [
    "t1,t2 = computeProbability(['D13','H13'],['C13','H10','S10'])\n",
    "\n",
    "print('percentile of hand in possible outcomes: {}%, percent chance of loss: {}%'.format(percentFormat(t1),percentFormat(t2)))"
   ]
  },
  {
   "cell_type": "code",
   "execution_count": 13,
   "id": "reliable-liechtenstein",
   "metadata": {},
   "outputs": [
    {
     "name": "stdout",
     "output_type": "stream",
     "text": [
      "Kelly F% = -8.0\n"
     ]
    }
   ],
   "source": [
    "print('Kelly F% = {}'.format(percentFormat(kelly(0.46))))"
   ]
  },
  {
   "cell_type": "markdown",
   "id": "nearby-characterization",
   "metadata": {},
   "source": [
    "The kelly F% calculated above is for the 46% chance of a win if you have pocket kings. Whats interesting about this is that if you only consider the probability of winning based on the cards dealt to you pre-flop, Kelly may always tell you not to bet. This is the case here because pocket kings suggest that you should fold (kelly F% is negative) but if a king is dealt in the flop then its very positive. "
   ]
  },
  {
   "cell_type": "markdown",
   "id": "silent-hebrew",
   "metadata": {},
   "source": [
    "#### Robustness testing with larger sample size\n",
    "Examine the robustness of the estimate given larger sample sizes of experiment. "
   ]
  },
  {
   "cell_type": "code",
   "execution_count": 14,
   "id": "developing-entry",
   "metadata": {},
   "outputs": [],
   "source": [
    "def runRobustSim():\n",
    "    simOut = runSimulation(1000,hand=['H13','C13'],flop=['S13'])\n",
    "    return round(np.sum(simOut)/len(simOut)*100,4)"
   ]
  },
  {
   "cell_type": "code",
   "execution_count": 15,
   "id": "greek-confidentiality",
   "metadata": {},
   "outputs": [
    {
     "name": "stderr",
     "output_type": "stream",
     "text": [
      "100%|████████████████████████████████████████████████████████████████████████████████| 100/100 [02:11<00:00,  1.31s/it]\n"
     ]
    }
   ],
   "source": [
    "sims = pd.DataFrame({i: runRobustSim() for i in tqdm(range(100))},index=['probWin'])"
   ]
  },
  {
   "cell_type": "code",
   "execution_count": 18,
   "id": "consecutive-fantasy",
   "metadata": {},
   "outputs": [
    {
     "data": {
      "text/html": [
       "<div>\n",
       "<style scoped>\n",
       "    .dataframe tbody tr th:only-of-type {\n",
       "        vertical-align: middle;\n",
       "    }\n",
       "\n",
       "    .dataframe tbody tr th {\n",
       "        vertical-align: top;\n",
       "    }\n",
       "\n",
       "    .dataframe thead th {\n",
       "        text-align: right;\n",
       "    }\n",
       "</style>\n",
       "<table border=\"1\" class=\"dataframe\">\n",
       "  <thead>\n",
       "    <tr style=\"text-align: right;\">\n",
       "      <th></th>\n",
       "      <th>probWin</th>\n",
       "    </tr>\n",
       "  </thead>\n",
       "  <tbody>\n",
       "    <tr>\n",
       "      <th>0</th>\n",
       "      <td>83.9</td>\n",
       "    </tr>\n",
       "    <tr>\n",
       "      <th>1</th>\n",
       "      <td>82.4</td>\n",
       "    </tr>\n",
       "    <tr>\n",
       "      <th>2</th>\n",
       "      <td>82.6</td>\n",
       "    </tr>\n",
       "    <tr>\n",
       "      <th>3</th>\n",
       "      <td>83.1</td>\n",
       "    </tr>\n",
       "    <tr>\n",
       "      <th>4</th>\n",
       "      <td>84.1</td>\n",
       "    </tr>\n",
       "  </tbody>\n",
       "</table>\n",
       "</div>"
      ],
      "text/plain": [
       "   probWin\n",
       "0     83.9\n",
       "1     82.4\n",
       "2     82.6\n",
       "3     83.1\n",
       "4     84.1"
      ]
     },
     "execution_count": 18,
     "metadata": {},
     "output_type": "execute_result"
    }
   ],
   "source": [
    "simsDf = sims.transpose()\n",
    "simsDf.head()"
   ]
  },
  {
   "cell_type": "code",
   "execution_count": 24,
   "id": "productive-impossible",
   "metadata": {},
   "outputs": [
    {
     "name": "stdout",
     "output_type": "stream",
     "text": [
      "Standard Deviation of 100 runs: 1.14%\n"
     ]
    }
   ],
   "source": [
    "print('Standard Deviation of 100 runs: {}%'.format(round(simsDf['probWin'].std(),2)))"
   ]
  },
  {
   "cell_type": "code",
   "execution_count": 38,
   "id": "bibliographic-loading",
   "metadata": {},
   "outputs": [
    {
     "data": {
      "text/plain": [
       "[Text(0.5, 1.0, 'Histogram of probabilities given 100 samples and same input')]"
      ]
     },
     "execution_count": 38,
     "metadata": {},
     "output_type": "execute_result"
    },
    {
     "data": {
      "image/png": "[encoded data removed]",
      "text/plain": [
       "<Figure size 864x432 with 1 Axes>"
      ]
     },
     "metadata": {},
     "output_type": "display_data"
    }
   ],
   "source": [
    "fig,axes = plt.subplots(figsize=(12,6))\n",
    "sns.histplot(data=simsDf['probWin']).set(title='Histogram of probabilities given 100 samples and same input')"
   ]
  },
  {
   "cell_type": "markdown",
   "id": "useful-immune",
   "metadata": {},
   "source": [
    "The distribution of probabilities given 100 samples of n=1,000 samples each has a standard deviation of 1% and a very tight distribution. "
   ]
  }
 ],
 "metadata": {
  "kernelspec": {
   "display_name": "Python 3",
   "language": "python",
   "name": "python3"
  },
  "language_info": {
   "codemirror_mode": {
    "name": "ipython",
    "version": 3
   },
   "file_extension": ".py",
   "mimetype": "text/x-python",
   "name": "python",
   "nbconvert_exporter": "python",
   "pygments_lexer": "ipython3",
   "version": "3.8.5"
  }
 },
 "nbformat": 4,
 "nbformat_minor": 5
}
