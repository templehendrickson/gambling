{
 "cells": [
  {
   "cell_type": "markdown",
   "id": "chubby-shoulder",
   "metadata": {},
   "source": [
    "# Comparison and features of Deuces package implementation\n",
    "Comparing the speed of poker hand evaluation and probability computation using Monte Carlo simulation techniques. "
   ]
  },
  {
   "cell_type": "code",
   "execution_count": 1,
   "id": "floral-absorption",
   "metadata": {},
   "outputs": [],
   "source": [
    "import pandas as pd\n",
    "import numpy as np\n",
    "import seaborn as sns\n",
    "import matplotlib.pyplot as plt\n",
    "import os\n",
    "from tqdm import tqdm\n",
    "import time\n",
    "import itertools\n",
    "\n",
    "sns.set_theme()"
   ]
  },
  {
   "cell_type": "markdown",
   "id": "oriented-bottle",
   "metadata": {},
   "source": [
    "### Speed of previous implementation"
   ]
  },
  {
   "cell_type": "code",
   "execution_count": 2,
   "id": "champion-transport",
   "metadata": {},
   "outputs": [],
   "source": [
    "import pokerUtils\n",
    "from pokerUtils import score_hand, Deck, runSimulation, computeProbability"
   ]
  },
  {
   "cell_type": "code",
   "execution_count": 3,
   "id": "delayed-edward",
   "metadata": {},
   "outputs": [
    {
     "name": "stdout",
     "output_type": "stream",
     "text": [
      "1.31 s ± 56.1 ms per loop (mean ± std. dev. of 7 runs, 1 loop each)\n"
     ]
    }
   ],
   "source": [
    "%%timeit\n",
    "simOut = runSimulation(1000,hand=['H13','C13'])\n",
    "# print('probability of winning with pocket kings (n=1,000): {}%'.format(\n",
    "#     round(np.sum(simOut)/len(simOut)*100,4)))"
   ]
  },
  {
   "cell_type": "markdown",
   "id": "ruled-strike",
   "metadata": {},
   "source": [
    "To compute a probability using only the hole cards takes the old implementation 1.32 s per evaluation. "
   ]
  },
  {
   "cell_type": "code",
   "execution_count": 4,
   "id": "following-gateway",
   "metadata": {},
   "outputs": [
    {
     "name": "stdout",
     "output_type": "stream",
     "text": [
      "1.29 s ± 50.3 ms per loop (mean ± std. dev. of 7 runs, 1 loop each)\n"
     ]
    }
   ],
   "source": [
    "%%timeit\n",
    "simOut = runSimulation(1000,hand=['H13','C13'],flop=['D13'])\n",
    "# print('probability of winning with pocket kings (n=1,000): {}%'.format(\n",
    "#     round(np.sum(simOut)/len(simOut)*100,4)))"
   ]
  },
  {
   "cell_type": "markdown",
   "id": "tested-hunter",
   "metadata": {},
   "source": [
    "The speed of the evaluation should not be effected by the input of other cards that would be theoretically dealt in other rounds, this is because these cards would be simulated internally if they were not entered. Thus, the combinations of the hold cards with the board is still the same level of rigor regardless of the inputs for the dealt rounds. "
   ]
  },
  {
   "cell_type": "markdown",
   "id": "reported-marking",
   "metadata": {},
   "source": [
    "### Speed using Deuces Implementation"
   ]
  },
  {
   "cell_type": "code",
   "execution_count": 5,
   "id": "native-jacket",
   "metadata": {},
   "outputs": [],
   "source": [
    "import deucesCode\n",
    "from deucesCode import runSims, Evaluator, Deck\n",
    "\n",
    "evalObj = Evaluator()"
   ]
  },
  {
   "cell_type": "code",
   "execution_count": 7,
   "id": "industrial-joshua",
   "metadata": {},
   "outputs": [
    {
     "name": "stdout",
     "output_type": "stream",
     "text": [
      "156 ms ± 1.76 ms per loop (mean ± std. dev. of 7 runs, 10 loops each)\n"
     ]
    }
   ],
   "source": [
    "%%timeit\n",
    "simOut = runSims(evalObj,1000,hole=['H13','C13'],board=[])"
   ]
  },
  {
   "cell_type": "code",
   "execution_count": 8,
   "id": "attractive-holly",
   "metadata": {},
   "outputs": [
    {
     "name": "stdout",
     "output_type": "stream",
     "text": [
      "160 ms ± 2.9 ms per loop (mean ± std. dev. of 7 runs, 10 loops each)\n"
     ]
    }
   ],
   "source": [
    "%%timeit\n",
    "simOut = runSims(evalObj,1000,hole=['H13','C13'],board=['D13'])"
   ]
  },
  {
   "cell_type": "markdown",
   "id": "threaded-covering",
   "metadata": {},
   "source": [
    "### Testing of individual scoring functions"
   ]
  },
  {
   "cell_type": "markdown",
   "id": "economic-bearing",
   "metadata": {},
   "source": [
    "Old method\n",
    "> Note, in the old method for a 7 card (board + hole cards) evaluation, all the combinations of the 7 cards had to be computed and then each of those combinations scored."
   ]
  },
  {
   "cell_type": "code",
   "execution_count": 9,
   "id": "nutritional-three",
   "metadata": {},
   "outputs": [],
   "source": [
    "def combinations(arr, n):\n",
    "    arr = np.asarray(arr)\n",
    "    t = np.dtype([('', arr.dtype)]*n)\n",
    "    result = np.fromiter(itertools.combinations(arr, n), t)\n",
    "    return result.view(arr.dtype).reshape(-1, n)"
   ]
  },
  {
   "cell_type": "code",
   "execution_count": 10,
   "id": "secret-charlotte",
   "metadata": {},
   "outputs": [],
   "source": [
    "board = ['H13','C13','D13','H2','C10']\n",
    "hand = ['H10','D7']"
   ]
  },
  {
   "cell_type": "code",
   "execution_count": 11,
   "id": "split-place",
   "metadata": {},
   "outputs": [
    {
     "name": "stdout",
     "output_type": "stream",
     "text": [
      "228 µs ± 26.1 µs per loop (mean ± std. dev. of 7 runs, 1000 loops each)\n"
     ]
    }
   ],
   "source": [
    "%%timeit\n",
    "combos = combinations(hand+board,5)\n",
    "\n",
    "scores = [score_hand(c,scoreOnly=True) for c in combos]"
   ]
  },
  {
   "cell_type": "markdown",
   "id": "contemporary-restriction",
   "metadata": {},
   "source": [
    "Note, Deuces testing here is being used with 7 cards total but it can score it in a single call, the old method requires you to compile the combinations between the cards into 5 card hands from the original 7. Thus, this computation should be included in the timing of the approach because it is required in practice."
   ]
  },
  {
   "cell_type": "markdown",
   "id": "narrow-legislature",
   "metadata": {},
   "source": [
    "Deuces Testing"
   ]
  },
  {
   "cell_type": "code",
   "execution_count": 12,
   "id": "answering-friend",
   "metadata": {},
   "outputs": [
    {
     "name": "stdout",
     "output_type": "stream",
     "text": [
      "2.76 µs ± 80.7 ns per loop (mean ± std. dev. of 7 runs, 100000 loops each)\n"
     ]
    }
   ],
   "source": [
    "%%timeit\n",
    "[deucesCode.deucesFormatConvert(c) for c in hand]"
   ]
  },
  {
   "cell_type": "markdown",
   "id": "abstract-penny",
   "metadata": {},
   "source": [
    "Above is the timing of the format conversion."
   ]
  },
  {
   "cell_type": "code",
   "execution_count": 13,
   "id": "solved-premium",
   "metadata": {},
   "outputs": [],
   "source": [
    "from deucesCode import Deck\n",
    "deck = Deck()\n",
    "aEval = Evaluator()\n",
    "\n",
    "hand = deck.draw(2)\n",
    "board = deck.draw(5)"
   ]
  },
  {
   "cell_type": "code",
   "execution_count": 14,
   "id": "union-syndication",
   "metadata": {},
   "outputs": [
    {
     "name": "stdout",
     "output_type": "stream",
     "text": [
      "20.9 µs ± 538 ns per loop (mean ± std. dev. of 7 runs, 10000 loops each)\n"
     ]
    }
   ],
   "source": [
    "%%timeit\n",
    "aEval.evaluate(hand,board)"
   ]
  },
  {
   "cell_type": "markdown",
   "id": "comparable-network",
   "metadata": {},
   "source": [
    "Above is the timing of the same 7 card evaluation from Deuces instead of the old methodology. "
   ]
  },
  {
   "cell_type": "markdown",
   "id": "distinct-master",
   "metadata": {},
   "source": [
    "### Conclusions\n",
    "The Deuces implementation provides significantly faster scoring of poker hands than the previous implementation. When comparing the evaluation of 7 cards using the same methodology Deuces is roughly 200 times faster. \n",
    "\n",
    "In terms of the Monte Carlo probability models, the difference is milliseconds to seconds (deuces, old method respectively) so thousands of times faster. \n",
    "\n",
    "This will allow for the evaluation and creation of the probability factors of the newly created poker game dataset. This dataset has approximately 42,000 games, roughly assuming that each game has only one player and one game to quantify, Deuces will allow the calculations to occur in roughly 3-4 hours with its millisecond computation time where previously it would have taken over a day. "
   ]
  },
  {
   "cell_type": "markdown",
   "id": "living-julian",
   "metadata": {},
   "source": [
    "### Deuces Robustness Testing "
   ]
  },
  {
   "cell_type": "code",
   "execution_count": 17,
   "id": "acute-better",
   "metadata": {},
   "outputs": [
    {
     "name": "stderr",
     "output_type": "stream",
     "text": [
      "100%|████████████████████████████████████████████████████████████████████████████████| 200/200 [00:32<00:00,  6.07it/s]\n"
     ]
    }
   ],
   "source": [
    "pdf = pd.DataFrame({i : runSims(evalObj,1000,hole=['H13','C13'],board=['D13']) for i in tqdm(range(200))},index=['probWin']).transpose()"
   ]
  },
  {
   "cell_type": "code",
   "execution_count": 28,
   "id": "classified-cargo",
   "metadata": {},
   "outputs": [
    {
     "data": {
      "text/plain": [
       "<AxesSubplot:ylabel='Frequency'>"
      ]
     },
     "execution_count": 28,
     "metadata": {},
     "output_type": "execute_result"
    },
    {
     "data": {
      "image/png": "[encoded data removed]",
      "text/plain": [
       "<Figure size 432x288 with 1 Axes>"
      ]
     },
     "metadata": {},
     "output_type": "display_data"
    }
   ],
   "source": [
    "pdf['probWin'].plot(kind='hist')"
   ]
  },
  {
   "cell_type": "code",
   "execution_count": 29,
   "id": "unable-practitioner",
   "metadata": {},
   "outputs": [
    {
     "data": {
      "text/plain": [
       "0.27780825420697564"
      ]
     },
     "execution_count": 29,
     "metadata": {},
     "output_type": "execute_result"
    }
   ],
   "source": [
    "pdf['probWin'].std()"
   ]
  },
  {
   "cell_type": "code",
   "execution_count": 31,
   "id": "electronic-collect",
   "metadata": {},
   "outputs": [
    {
     "data": {
      "text/plain": [
       "0.7953950000000006"
      ]
     },
     "execution_count": 31,
     "metadata": {},
     "output_type": "execute_result"
    }
   ],
   "source": [
    "pdf['probWin'].mean()"
   ]
  },
  {
   "cell_type": "code",
   "execution_count": 23,
   "id": "natural-photograph",
   "metadata": {},
   "outputs": [
    {
     "name": "stderr",
     "output_type": "stream",
     "text": [
      "100%|████████████████████████████████████████████████████████████████████████████████| 200/200 [00:32<00:00,  6.18it/s]\n"
     ]
    }
   ],
   "source": [
    "pdf1 = pd.DataFrame({i : runSims(evalObj,1000,hole=['H13','C13'],board=['D13','C10','S10']) for i in tqdm(range(200))},index=['probWin']).transpose()"
   ]
  },
  {
   "cell_type": "code",
   "execution_count": 26,
   "id": "direct-request",
   "metadata": {},
   "outputs": [
    {
     "data": {
      "text/plain": [
       "0.07241296977030269"
      ]
     },
     "execution_count": 26,
     "metadata": {},
     "output_type": "execute_result"
    }
   ],
   "source": [
    "pdf1['probWin'].std()"
   ]
  },
  {
   "cell_type": "code",
   "execution_count": 27,
   "id": "average-position",
   "metadata": {},
   "outputs": [
    {
     "data": {
      "text/plain": [
       "0.9633000000000003"
      ]
     },
     "execution_count": 27,
     "metadata": {},
     "output_type": "execute_result"
    }
   ],
   "source": [
    "pdf1['probWin'].mean()"
   ]
  },
  {
   "cell_type": "code",
   "execution_count": 25,
   "id": "linear-springer",
   "metadata": {},
   "outputs": [
    {
     "data": {
      "text/plain": [
       "<AxesSubplot:ylabel='Frequency'>"
      ]
     },
     "execution_count": 25,
     "metadata": {},
     "output_type": "execute_result"
    },
    {
     "data": {
      "image/png": "[encoded data removed]",
      "text/plain": [
       "<Figure size 432x288 with 1 Axes>"
      ]
     },
     "metadata": {},
     "output_type": "display_data"
    }
   ],
   "source": [
    "pdf1.plot(kind='hist')"
   ]
  },
  {
   "cell_type": "markdown",
   "id": "numerous-charity",
   "metadata": {},
   "source": [
    "There are some slightly odd patterns that emerge when examing the large sample sizes. "
   ]
  },
  {
   "cell_type": "code",
   "execution_count": 32,
   "id": "detected-citation",
   "metadata": {},
   "outputs": [
    {
     "name": "stderr",
     "output_type": "stream",
     "text": [
      "100%|████████████████████████████████████████████████████████████████████████████████| 200/200 [00:32<00:00,  6.11it/s]\n"
     ]
    }
   ],
   "source": [
    "pdf1 = pd.DataFrame({i : runSims(evalObj,1000,hole=['H13','C13'],board=['D13','C10','S2','D10']) for i in tqdm(range(200))},index=['probWin']).transpose()"
   ]
  },
  {
   "cell_type": "code",
   "execution_count": 33,
   "id": "compatible-association",
   "metadata": {},
   "outputs": [
    {
     "data": {
      "text/plain": [
       "0.042791028682171085"
      ]
     },
     "execution_count": 33,
     "metadata": {},
     "output_type": "execute_result"
    }
   ],
   "source": [
    "pdf1['probWin'].std()"
   ]
  },
  {
   "cell_type": "code",
   "execution_count": 34,
   "id": "annual-tracker",
   "metadata": {},
   "outputs": [
    {
     "name": "stderr",
     "output_type": "stream",
     "text": [
      "100%|████████████████████████████████████████████████████████████████████████████████| 200/200 [00:33<00:00,  6.00it/s]\n"
     ]
    }
   ],
   "source": [
    "pdf1 = pd.DataFrame({i : runSims(evalObj,1000,hole=['H13','C13'],board=['D13','C10','S2','D10','C6']) for i in tqdm(range(200))},index=['probWin']).transpose()"
   ]
  },
  {
   "cell_type": "code",
   "execution_count": 35,
   "id": "known-movement",
   "metadata": {},
   "outputs": [
    {
     "data": {
      "text/plain": [
       "0.0022871665119239435"
      ]
     },
     "execution_count": 35,
     "metadata": {},
     "output_type": "execute_result"
    }
   ],
   "source": [
    "pdf1['probWin'].std()"
   ]
  },
  {
   "cell_type": "markdown",
   "id": "static-violation",
   "metadata": {},
   "source": [
    "There does appear to be trend between decreased standard deviation (uncertainty) and the number of input cards into the board, this conceptually makes sense. "
   ]
  }
 ],
 "metadata": {
  "kernelspec": {
   "display_name": "Python 3",
   "language": "python",
   "name": "python3"
  },
  "language_info": {
   "codemirror_mode": {
    "name": "ipython",
    "version": 3
   },
   "file_extension": ".py",
   "mimetype": "text/x-python",
   "name": "python",
   "nbconvert_exporter": "python",
   "pygments_lexer": "ipython3",
   "version": "3.8.5"
  }
 },
 "nbformat": 4,
 "nbformat_minor": 5
}
