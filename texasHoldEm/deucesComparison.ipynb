{
 "cells": [
  {
   "cell_type": "markdown",
   "id": "inner-services",
   "metadata": {},
   "source": [
    "# Comparison and features of Deuces package implementation\n",
    "Comparing the speed of poker hand evaluation and probability computation using Monte Carlo simulation techniques. "
   ]
  },
  {
   "cell_type": "code",
   "execution_count": 1,
   "id": "revolutionary-making",
   "metadata": {},
   "outputs": [],
   "source": [
    "import pandas as pd\n",
    "import numpy as np\n",
    "import seaborn as sns\n",
    "import matplotlib.pyplot as plt\n",
    "import os\n",
    "from tqdm import tqdm\n",
    "import time\n",
    "import itertools\n",
    "\n",
    "sns.set_theme()"
   ]
  },
  {
   "cell_type": "markdown",
   "id": "thirty-hamilton",
   "metadata": {},
   "source": [
    "### Speed of previous implementation"
   ]
  },
  {
   "cell_type": "code",
   "execution_count": 2,
   "id": "cosmetic-absolute",
   "metadata": {},
   "outputs": [],
   "source": [
    "import pokerUtils\n",
    "from pokerUtils import score_hand, Deck, runSimulation, computeProbability"
   ]
  },
  {
   "cell_type": "code",
   "execution_count": 3,
   "id": "accomplished-cleaner",
   "metadata": {},
   "outputs": [
    {
     "name": "stdout",
     "output_type": "stream",
     "text": [
      "1.34 s ± 53.3 ms per loop (mean ± std. dev. of 7 runs, 1 loop each)\n"
     ]
    }
   ],
   "source": [
    "%%timeit\n",
    "simOut = runSimulation(1000,hand=['H13','C13'])\n",
    "# print('probability of winning with pocket kings (n=1,000): {}%'.format(\n",
    "#     round(np.sum(simOut)/len(simOut)*100,4)))"
   ]
  },
  {
   "cell_type": "markdown",
   "id": "molecular-pharmacology",
   "metadata": {},
   "source": [
    "To compute a probability using only the hole cards takes the old implementation 1.32 s per evaluation. "
   ]
  },
  {
   "cell_type": "code",
   "execution_count": null,
   "id": "indoor-synthetic",
   "metadata": {},
   "outputs": [],
   "source": [
    "%%timeit\n",
    "simOut = runSimulation(1000,hand=['H13','C13'],flop=['D13'])\n",
    "# print('probability of winning with pocket kings (n=1,000): {}%'.format(\n",
    "#     round(np.sum(simOut)/len(simOut)*100,4)))"
   ]
  },
  {
   "cell_type": "markdown",
   "id": "broadband-scanning",
   "metadata": {},
   "source": [
    "The speed of the evaluation should not be effected by the input of other cards that would be theoretically dealt in other rounds, this is because these cards would be simulated internally if they were not entered. Thus, the combinations of the hold cards with the board is still the same level of rigor regardless of the inputs for the dealt rounds. "
   ]
  },
  {
   "cell_type": "markdown",
   "id": "dominant-citation",
   "metadata": {},
   "source": [
    "### Speed using Deuces Implementation"
   ]
  },
  {
   "cell_type": "code",
   "execution_count": null,
   "id": "bridal-combining",
   "metadata": {},
   "outputs": [],
   "source": [
    "import deucesCode\n",
    "from deucesCode import runSims, Evaluator, Deck\n",
    "\n",
    "evalObj = Evaluator()"
   ]
  },
  {
   "cell_type": "code",
   "execution_count": null,
   "id": "agricultural-mention",
   "metadata": {},
   "outputs": [],
   "source": [
    "%%timeit\n",
    "simOut = runSims(evalObj,1000,hole=['H13','C13'])"
   ]
  },
  {
   "cell_type": "code",
   "execution_count": null,
   "id": "changing-preservation",
   "metadata": {},
   "outputs": [],
   "source": [
    "%%timeit\n",
    "simOut = runSims(evalObj,1000,hole=['H13','C13'],flop=['D13'])"
   ]
  },
  {
   "cell_type": "markdown",
   "id": "colored-brave",
   "metadata": {},
   "source": [
    "### Testing of individual scoring functions"
   ]
  },
  {
   "cell_type": "markdown",
   "id": "brave-demographic",
   "metadata": {},
   "source": [
    "Old method\n",
    "> Note, in the old method for a 7 card (board + hole cards) evaluation, all the combinations of the 7 cards had to be computed and then each of those combinations scored."
   ]
  },
  {
   "cell_type": "code",
   "execution_count": null,
   "id": "interpreted-juice",
   "metadata": {},
   "outputs": [],
   "source": [
    "def combinations(arr, n):\n",
    "    arr = np.asarray(arr)\n",
    "    t = np.dtype([('', arr.dtype)]*n)\n",
    "    result = np.fromiter(itertools.combinations(arr, n), t)\n",
    "    return result.view(arr.dtype).reshape(-1, n)"
   ]
  },
  {
   "cell_type": "code",
   "execution_count": null,
   "id": "consecutive-turning",
   "metadata": {},
   "outputs": [],
   "source": [
    "board = ['H13','C13','D13','H2','C10']\n",
    "hand = ['H10','D7']"
   ]
  },
  {
   "cell_type": "code",
   "execution_count": null,
   "id": "colonial-taste",
   "metadata": {},
   "outputs": [],
   "source": [
    "%%timeit\n",
    "combos = combinations(hand+board,5)\n",
    "\n",
    "scores = [score_hand(c,scoreOnly=True) for c in combos]"
   ]
  },
  {
   "cell_type": "markdown",
   "id": "square-event",
   "metadata": {},
   "source": [
    "Note, Deuces testing here is being used with 7 cards total but it can score it in a single call, the old method requires you to compile the combinations between the cards into 5 card hands from the original 7. Thus, this computation should be included in the timing of the approach because it is required in practice."
   ]
  },
  {
   "cell_type": "markdown",
   "id": "premier-commons",
   "metadata": {},
   "source": [
    "Deuces Testing"
   ]
  },
  {
   "cell_type": "code",
   "execution_count": null,
   "id": "digital-denmark",
   "metadata": {},
   "outputs": [],
   "source": [
    "%%timeit\n",
    "[deucesCode.deucesFormatConvert(c) for c in hand]"
   ]
  },
  {
   "cell_type": "markdown",
   "id": "reduced-general",
   "metadata": {},
   "source": [
    "Above is the timing of the format conversion."
   ]
  },
  {
   "cell_type": "code",
   "execution_count": null,
   "id": "brazilian-ability",
   "metadata": {},
   "outputs": [],
   "source": [
    "from deucesCode import Deck\n",
    "deck = Deck()\n",
    "aEval = Evaluator()\n",
    "\n",
    "hand = deck.draw(2)\n",
    "board = deck.draw(5)"
   ]
  },
  {
   "cell_type": "code",
   "execution_count": null,
   "id": "tough-scottish",
   "metadata": {},
   "outputs": [],
   "source": [
    "%%timeit\n",
    "aEval.evaluate(hand,board)"
   ]
  },
  {
   "cell_type": "markdown",
   "id": "noble-wrestling",
   "metadata": {},
   "source": [
    "Above is the timing of the same 7 card evaluation from Deuces instead of the old methodology. "
   ]
  },
  {
   "cell_type": "markdown",
   "id": "changing-electric",
   "metadata": {},
   "source": [
    "### Conclusions\n",
    "The Deuces implementation provides significantly faster scoring of poker hands than the previous implementation. When comparing the evaluation of 7 cards using the same methodology Deuces is roughly 200 times faster. \n",
    "\n",
    "In terms of the Monte Carlo probability models, the difference is milliseconds to seconds (deuces, old method respectively) so thousands of times faster. \n",
    "\n",
    "This will allow for the evaluation and creation of the probability factors of the newly created poker game dataset. This dataset has approximately 42,000 games, roughly assuming that each game has only one player and one game to quantify, Deuces will allow the calculations to occur in roughly 3-4 hours with its millisecond computation time where previously it would have taken over a day. "
   ]
  }
 ],
 "metadata": {
  "kernelspec": {
   "display_name": "Python 3",
   "language": "python",
   "name": "python3"
  },
  "language_info": {
   "codemirror_mode": {
    "name": "ipython",
    "version": 3
   },
   "file_extension": ".py",
   "mimetype": "text/x-python",
   "name": "python",
   "nbconvert_exporter": "python",
   "pygments_lexer": "ipython3",
   "version": "3.8.5"
  }
 },
 "nbformat": 4,
 "nbformat_minor": 5
}
