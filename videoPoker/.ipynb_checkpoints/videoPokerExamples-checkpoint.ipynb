{
 "cells": [
  {
   "cell_type": "markdown",
   "id": "dying-webcam",
   "metadata": {},
   "source": [
    "# Examples of Video Poker Models"
   ]
  },
  {
   "cell_type": "markdown",
   "id": "resident-rolling",
   "metadata": {},
   "source": [
    "### illustrative examples of video poker modeling use cases\n",
    "> Video poker is a combination of slot machines and poker, it is usually played at a slot like machine rather than at a poker table; the significant point of difference from slot machines is that video poker is a game of skill. The game consists of 5 cards being dealt to the player, the player then selects n number of cards from those dealt to create a hand. Cards not selected are then discarded. The number of cards discarded determine the amount of cards to be drawn in the next round; the score is determined by the combinations the player can form using the cards selected from the first cards dealt and the cards dealt in the second round to replace those discarded. \n",
    "\n",
    "> An important point in video poker is that there are levels of better (1-5) which have different 'payout' amounts, these payout tables can be specific to machines or to casinos. This model uses the 9/6 'Jacks or Better' payout table which appears to be one of the more common. The model in this case works by taking all the possible combinations of cards from the first round, these would be the cards that would be kept conceptually, and then running n simulations (default 1,000) to determine the value of each possible hand. This allows the player to determine the best hand to select. "
   ]
  },
  {
   "cell_type": "code",
   "execution_count": 1,
   "id": "finnish-nitrogen",
   "metadata": {},
   "outputs": [],
   "source": [
    "import videoPoker\n",
    "\n",
    "import pandas as pd\n",
    "import numpy as np\n",
    "import seaborn as sns\n",
    "import matplotlib.pyplot as plt\n",
    "import os\n",
    "\n",
    "sns.set_theme()"
   ]
  },
  {
   "cell_type": "code",
   "execution_count": 2,
   "id": "stock-spiritual",
   "metadata": {},
   "outputs": [],
   "source": [
    "from videoPoker import findBestHand, runSimGames, playGame, simulateNumberGames, score_hand"
   ]
  },
  {
   "cell_type": "code",
   "execution_count": 3,
   "id": "further-simple",
   "metadata": {},
   "outputs": [],
   "source": [
    "payTable = {\n",
    "    'royal_flush':4000,\n",
    "    'straight_flush':250,\n",
    "    'four_of_a_kind':125,\n",
    "    'full_house':45,\n",
    "    'flush':30,\n",
    "    'straight':20,\n",
    "    'three_of_a_kind':15,\n",
    "    'two_pairs':10,\n",
    "    'better_jack_pair':5\n",
    "}"
   ]
  },
  {
   "cell_type": "markdown",
   "id": "extensive-leather",
   "metadata": {},
   "source": [
    "#### Payout table examples\n",
    "For this specific payout table, no combination of cards worse than a pair of jacks will return a payout. An example of this is shown below. "
   ]
  },
  {
   "cell_type": "code",
   "execution_count": 4,
   "id": "capable-mobility",
   "metadata": {},
   "outputs": [
    {
     "data": {
      "text/plain": [
       "(0, 'pair')"
      ]
     },
     "execution_count": 4,
     "metadata": {},
     "output_type": "execute_result"
    }
   ],
   "source": [
    "hand1 = ['H10','D10','C2','S6','S14'] # this is pair of 10s\n",
    "score_hand(hand1,payTable)"
   ]
  },
  {
   "cell_type": "code",
   "execution_count": 5,
   "id": "photographic-parker",
   "metadata": {},
   "outputs": [
    {
     "data": {
      "text/plain": [
       "(5, 'pair')"
      ]
     },
     "execution_count": 5,
     "metadata": {},
     "output_type": "execute_result"
    }
   ],
   "source": [
    "hand2 = ['H12','D12','C2','S6','S14'] # this is pair of Kings\n",
    "score_hand(hand2,payTable)"
   ]
  },
  {
   "cell_type": "code",
   "execution_count": 6,
   "id": "indoor-vegetation",
   "metadata": {},
   "outputs": [
    {
     "data": {
      "text/plain": [
       "(45, 'full house')"
      ]
     },
     "execution_count": 6,
     "metadata": {},
     "output_type": "execute_result"
    }
   ],
   "source": [
    "hand3 = ['H10','C10','S10','H11','D11'] # full house\n",
    "score_hand(hand3,payTable)"
   ]
  },
  {
   "cell_type": "markdown",
   "id": "solid-advice",
   "metadata": {},
   "source": [
    "#### Validation of strategy \n",
    "There are many guides online that suggest optimal video poker strategies, these specific examples can be used to validate the outputs of this model. A good case study, (link: https://www.gamblingsites.com/online-casino/video-poker/strategy/) explains that when faced with a hand that gives you 4 cards to a royal flush (10 to Ace of all same suit) but you also have a pair. This means that you are attempting to determine whether it would be more optimal to role the dice and hope to get the last card to complete the royal flush or take the guarenteed two pair in the hand. Note, you would have to remove the card that creates the pair in order to hope to get the royal flush. \n",
    "\n",
    "The website suggests that the clear choice is the royal flush because mathematically while the odds of getting the pair are 100%, the payout of the royal flush is so much higher that it makes it worth your while to take a chance on the royal flush.\n",
    "\n",
    "This scenario is modeled below. "
   ]
  },
  {
   "cell_type": "code",
   "execution_count": 7,
   "id": "passing-disclaimer",
   "metadata": {},
   "outputs": [
    {
     "name": "stdout",
     "output_type": "stream",
     "text": [
      "Cards Dealt: ['H10', 'H11', 'H12', 'H13', 'H13']\n",
      "Best Hand: ['H10', 'H11', 'H12', 'H13'], Associated Score: 13170 (n=1,000)\n"
     ]
    }
   ],
   "source": [
    "cardsDealt = ['H10','H11','H12','H13','H13']\n",
    "bestHand,bestScore = findBestHand(cardsDealt,payTable)\n",
    "print('Cards Dealt: {}'.format(cardsDealt))\n",
    "print('Best Hand: {}, Associated Score: {} (n=1,000)'.format(bestHand,bestScore))"
   ]
  },
  {
   "cell_type": "markdown",
   "id": "level-secretariat",
   "metadata": {},
   "source": [
    "The variable 'cardsDealt' above contains the example mentioned above, we can see that the model reaches the same conclusion as the optimal strategy in the article. The score here is the sum of the payouts related to playing the hand combination of cards 1,000 times, this calculation takes into account the cost of these bets by subtracting 5 for every bet placed. Thus, the score represents the profit of the hand after 1,000 simulated games. "
   ]
  },
  {
   "cell_type": "markdown",
   "id": "professional-vietnam",
   "metadata": {},
   "source": [
    "#### Longterm results of the strategy\n",
    "The model below will execute the strategy over n number of simulations, in each game or simulation applying the model above to determine the optimal hand. This model always bets 5 for ease of not having to modify the pay tables. "
   ]
  },
  {
   "cell_type": "code",
   "execution_count": 8,
   "id": "further-belief",
   "metadata": {},
   "outputs": [
    {
     "name": "stderr",
     "output_type": "stream",
     "text": [
      "100%|██████████████████████████████████████████████████████████████████████████████| 1000/1000 [27:05<00:00,  1.63s/it]\n"
     ]
    }
   ],
   "source": [
    "sims = simulateNumberGames(1000,payTable)"
   ]
  },
  {
   "cell_type": "code",
   "execution_count": 11,
   "id": "filled-strain",
   "metadata": {},
   "outputs": [
    {
     "data": {
      "text/plain": [
       "<AxesSubplot:>"
      ]
     },
     "execution_count": 11,
     "metadata": {},
     "output_type": "execute_result"
    },
    {
     "data": {
      "image/png": "[encoded data removed]",
      "text/plain": [
       "<Figure size 432x288 with 1 Axes>"
      ]
     },
     "metadata": {},
     "output_type": "display_data"
    }
   ],
   "source": [
    "pd.Series(np.cumsum(sims)).plot(kind='line')"
   ]
  },
  {
   "cell_type": "code",
   "execution_count": 12,
   "id": "lesbian-snake",
   "metadata": {},
   "outputs": [],
   "source": [
    "cumSum = np.cumsum(sims)\n",
    "wStarting = cumSum + 1000"
   ]
  },
  {
   "cell_type": "code",
   "execution_count": 13,
   "id": "welcome-acrylic",
   "metadata": {},
   "outputs": [
    {
     "data": {
      "text/plain": [
       "<AxesSubplot:>"
      ]
     },
     "execution_count": 13,
     "metadata": {},
     "output_type": "execute_result"
    },
    {
     "data": {
      "image/png": "[encoded data removed]",
      "text/plain": [
       "<Figure size 432x288 with 1 Axes>"
      ]
     },
     "metadata": {},
     "output_type": "display_data"
    }
   ],
   "source": [
    "pd.Series(wStarting).plot(kind='line')"
   ]
  },
  {
   "cell_type": "code",
   "execution_count": null,
   "id": "painted-expression",
   "metadata": {},
   "outputs": [],
   "source": []
  }
 ],
 "metadata": {
  "kernelspec": {
   "display_name": "Python 3",
   "language": "python",
   "name": "python3"
  },
  "language_info": {
   "codemirror_mode": {
    "name": "ipython",
    "version": 3
   },
   "file_extension": ".py",
   "mimetype": "text/x-python",
   "name": "python",
   "nbconvert_exporter": "python",
   "pygments_lexer": "ipython3",
   "version": "3.8.5"
  }
 },
 "nbformat": 4,
 "nbformat_minor": 5
}
